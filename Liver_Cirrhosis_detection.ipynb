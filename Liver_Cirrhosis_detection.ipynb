{
 "cells": [
  {
   "cell_type": "markdown",
   "id": "ace281b9",
   "metadata": {},
   "source": [
    "\n",
    "Liver Cirrhosis Stage Detection - Machine Learning Project\n",
    "----------------------------------------------------------\n",
    "This project predicts the histologic stage of liver cirrhosis (Stage 1, 2, or 3)\n",
    "using patient clinical and biochemical data from the Mayo Clinic study.\n",
    "\n",
    "Models Compared:\n",
    "- Logistic Regression\n",
    "- Support Vector Machine (SVM)\n",
    "- Random Forest\n",
    "- XGBoos"
   ]
  },
  {
   "cell_type": "code",
   "execution_count": null,
   "id": "536a435f",
   "metadata": {},
   "outputs": [],
   "source": [
    "import pandas as pd\n",
    "import numpy as np\n",
    "import seaborn as sns\n",
    "import matplotlib.pyplot as plt\n",
    "\n",
    "from sklearn.model_selection import train_test_split\n",
    "from sklearn.preprocessing import LabelEncoder, StandardScaler\n",
    "from sklearn.ensemble import RandomForestClassifier\n",
    "from sklearn.linear_model import LogisticRegression\n",
    "from sklearn.svm import SVC\n",
    "from xgboost import XGBClassifier\n",
    "from sklearn.metrics import classification_report, confusion_matrix\n"
   ]
  },
  {
   "cell_type": "code",
   "execution_count": 11,
   "id": "27b6f0e8",
   "metadata": {},
   "outputs": [],
   "source": [
    "import warnings\n",
    "warnings.filterwarnings('ignore')"
   ]
  },
  {
   "cell_type": "code",
   "execution_count": 2,
   "id": "6bd61109",
   "metadata": {},
   "outputs": [
    {
     "name": "stdout",
     "output_type": "stream",
     "text": [
      "First few rows of the dataset:\n",
      "   N_Days Status     Drug    Age Sex Ascites Hepatomegaly Spiders Edema  \\\n",
      "0    2221      C  Placebo  18499   F       N            Y       N     N   \n",
      "1    1230      C  Placebo  19724   M       Y            N       Y     N   \n",
      "2    4184      C  Placebo  11839   F       N            N       N     N   \n",
      "3    2090      D  Placebo  16467   F       N            N       N     N   \n",
      "4    2105      D  Placebo  21699   F       N            Y       N     N   \n",
      "\n",
      "   Bilirubin  Cholesterol  Albumin  Copper  Alk_Phos    SGOT  Tryglicerides  \\\n",
      "0        0.5        149.0     4.04   227.0     598.0   52.70           57.0   \n",
      "1        0.5        219.0     3.93    22.0     663.0   45.00           75.0   \n",
      "2        0.5        320.0     3.54    51.0    1243.0  122.45           80.0   \n",
      "3        0.7        255.0     3.74    23.0    1024.0   77.50           58.0   \n",
      "4        1.9        486.0     3.54    74.0    1052.0  108.50          109.0   \n",
      "\n",
      "   Platelets  Prothrombin  Stage  \n",
      "0      256.0          9.9      1  \n",
      "1      220.0         10.8      2  \n",
      "2      225.0         10.0      2  \n",
      "3      151.0         10.2      2  \n",
      "4      151.0         11.5      1   \n",
      "\n"
     ]
    }
   ],
   "source": [
    "# Step 2: Load Dataset\n",
    "df = pd.read_csv('liver_cirrhosis.csv')\n",
    "print(\"First few rows of the dataset:\")\n",
    "print(df.head(), \"\\n\")"
   ]
  },
  {
   "cell_type": "code",
   "execution_count": 3,
   "id": "7837a449",
   "metadata": {},
   "outputs": [],
   "source": [
    "# Fill remaining missing values (numeric with median)\n",
    "df = df.fillna(df.median(numeric_only=True))"
   ]
  },
  {
   "cell_type": "code",
   "execution_count": 54,
   "id": "569514bd",
   "metadata": {},
   "outputs": [],
   "source": [
    "# Encode categorical variables\n",
    "label_cols = ['Platelets', 'Prothrombin', 'Ascites', 'Hepatomegaly', 'Spiders', 'Bilirubin', 'Edema']\n",
    "for col in label_cols:\n",
    "    df[col] = LabelEncoder().fit_transform(df[col].astype(str))\n",
    "\n",
    "# Ensure all remaining numeric columns have no missing values\n",
    "numeric_cols = df.select_dtypes(include=[np.number]).columns\n",
    "for col in numeric_cols:\n",
    "    df[col] = df[col].fillna(df[col].median())"
   ]
  },
  {
   "cell_type": "code",
   "execution_count": 46,
   "id": "8625ac8a",
   "metadata": {},
   "outputs": [],
   "source": [
    "# Features & Target\n",
    "X = df.drop(columns=['Stage'])\n",
    "y = df['Stage']\n",
    "\n",
    "# Map target values from [1,2,3] → [0,1,2] for ML compatibility\n",
    "y = y.map({1: 0, 2: 1, 3: 2})"
   ]
  },
  {
   "cell_type": "code",
   "execution_count": 55,
   "id": "32f81d3e",
   "metadata": {},
   "outputs": [],
   "source": [
    "# Standardize features\n",
    "scaler = StandardScaler()\n",
    "X_scaled = scaler.fit_transform(X)\n",
    "\n",
    "# Train-Test Split\n",
    "X_train, X_test, y_train, y_test = train_test_split(\n",
    "    X_scaled, y, test_size=0.3, random_state=42\n",
    ")"
   ]
  },
  {
   "cell_type": "code",
   "execution_count": 56,
   "id": "1739dc0d",
   "metadata": {},
   "outputs": [
    {
     "name": "stdout",
     "output_type": "stream",
     "text": [
      "\n",
      "Random Forest Results:\n",
      "[[2334  108   44]\n",
      " [  64 2452   48]\n",
      " [  26   53 2371]]\n",
      "              precision    recall  f1-score   support\n",
      "\n",
      "           0       0.96      0.94      0.95      2486\n",
      "           1       0.94      0.96      0.95      2564\n",
      "           2       0.96      0.97      0.97      2450\n",
      "\n",
      "    accuracy                           0.95      7500\n",
      "   macro avg       0.95      0.95      0.95      7500\n",
      "weighted avg       0.95      0.95      0.95      7500\n",
      "\n"
     ]
    }
   ],
   "source": [
    "results = {}  # to store performance reports\n",
    "\n",
    "# ---- Random Forest ----\n",
    "rf = RandomForestClassifier(n_estimators=100, random_state=42)\n",
    "rf.fit(X_train, y_train)\n",
    "y_pred_rf = rf.predict(X_test)\n",
    "\n",
    "print(\"\\nRandom Forest Results:\")\n",
    "print(confusion_matrix(y_test, y_pred_rf))\n",
    "print(classification_report(y_test, y_pred_rf))\n",
    "results['Random Forest'] = classification_report(y_test, y_pred_rf, output_dict=True)\n",
    "\n"
   ]
  },
  {
   "cell_type": "code",
   "execution_count": 57,
   "id": "6244be3e",
   "metadata": {},
   "outputs": [
    {
     "name": "stdout",
     "output_type": "stream",
     "text": [
      "\n",
      "Logistic Regression Results:\n",
      "[[1576  540  370]\n",
      " [ 807 1104  653]\n",
      " [ 315  438 1697]]\n",
      "              precision    recall  f1-score   support\n",
      "\n",
      "           0       0.58      0.63      0.61      2486\n",
      "           1       0.53      0.43      0.48      2564\n",
      "           2       0.62      0.69      0.66      2450\n",
      "\n",
      "    accuracy                           0.58      7500\n",
      "   macro avg       0.58      0.59      0.58      7500\n",
      "weighted avg       0.58      0.58      0.58      7500\n",
      "\n"
     ]
    }
   ],
   "source": [
    "# ---- Logistic Regression ----\n",
    "logreg = LogisticRegression(max_iter=1000)\n",
    "logreg.fit(X_train, y_train)\n",
    "y_pred_lr = logreg.predict(X_test)\n",
    "\n",
    "print(\"\\nLogistic Regression Results:\")\n",
    "print(confusion_matrix(y_test, y_pred_lr))\n",
    "print(classification_report(y_test, y_pred_lr))\n",
    "results['Logistic Regression'] = classification_report(y_test, y_pred_lr, output_dict=True)\n"
   ]
  },
  {
   "cell_type": "code",
   "execution_count": 58,
   "id": "add6e8ae",
   "metadata": {},
   "outputs": [
    {
     "name": "stdout",
     "output_type": "stream",
     "text": [
      "\n",
      "XGBoost Results:\n",
      "[[2372   85   29]\n",
      " [  55 2468   41]\n",
      " [  25   49 2376]]\n",
      "              precision    recall  f1-score   support\n",
      "\n",
      "           0       0.97      0.95      0.96      2486\n",
      "           1       0.95      0.96      0.96      2564\n",
      "           2       0.97      0.97      0.97      2450\n",
      "\n",
      "    accuracy                           0.96      7500\n",
      "   macro avg       0.96      0.96      0.96      7500\n",
      "weighted avg       0.96      0.96      0.96      7500\n",
      "\n"
     ]
    }
   ],
   "source": [
    "# ---- XGBoost ----\n",
    "xgb = XGBClassifier(use_label_encoder=False, eval_metric='mlogloss')\n",
    "xgb.fit(X_train, y_train)\n",
    "y_pred_xgb = xgb.predict(X_test)\n",
    "\n",
    "print(\"\\nXGBoost Results:\")\n",
    "print(confusion_matrix(y_test, y_pred_xgb))\n",
    "print(classification_report(y_test, y_pred_xgb))\n",
    "results['XGBoost'] = classification_report(y_test, y_pred_xgb, output_dict=True)\n"
   ]
  },
  {
   "cell_type": "code",
   "execution_count": 59,
   "id": "192b8ea5",
   "metadata": {},
   "outputs": [
    {
     "name": "stdout",
     "output_type": "stream",
     "text": [
      "\n",
      "SVM Classifier Results:\n",
      "[[2007  358  121]\n",
      " [ 301 2048  215]\n",
      " [ 164  192 2094]]\n",
      "              precision    recall  f1-score   support\n",
      "\n",
      "           0       0.81      0.81      0.81      2486\n",
      "           1       0.79      0.80      0.79      2564\n",
      "           2       0.86      0.85      0.86      2450\n",
      "\n",
      "    accuracy                           0.82      7500\n",
      "   macro avg       0.82      0.82      0.82      7500\n",
      "weighted avg       0.82      0.82      0.82      7500\n",
      "\n"
     ]
    }
   ],
   "source": [
    "# ---- SVM ----\n",
    "svm = SVC(kernel='rbf', C=1, gamma='scale')\n",
    "svm.fit(X_train, y_train)\n",
    "y_pred_svm = svm.predict(X_test)\n",
    "\n",
    "print(\"\\nSVM Classifier Results:\")\n",
    "print(confusion_matrix(y_test, y_pred_svm))\n",
    "print(classification_report(y_test, y_pred_svm))\n",
    "results['SVM'] = classification_report(y_test, y_pred_svm, output_dict=True)\n"
   ]
  },
  {
   "cell_type": "code",
   "execution_count": 60,
   "id": "a5516803",
   "metadata": {},
   "outputs": [
    {
     "name": "stdout",
     "output_type": "stream",
     "text": [
      "\n",
      "===== Model Comparison (Accuracy) =====\n",
      "Random Forest: 0.9543\n",
      "Logistic Regression: 0.5836\n",
      "XGBoost: 0.9621\n",
      "SVM: 0.8199\n"
     ]
    },
    {
     "data": {
      "image/png": "[encoded data removed]",
      "text/plain": [
       "<Figure size 800x500 with 1 Axes>"
      ]
     },
     "metadata": {},
     "output_type": "display_data"
    }
   ],
   "source": [
    "\n",
    "# ==============================\n",
    "# Step 5: Model Comparison\n",
    "# ==============================\n",
    "print(\"\\n===== Model Comparison (Accuracy) =====\")\n",
    "for model_name, report in results.items():\n",
    "    print(f\"{model_name}: {report['accuracy']:.4f}\")\n",
    "\n",
    "# Plot accuracy comparison\n",
    "plt.figure(figsize=(8,5))\n",
    "sns.barplot(x=list(results.keys()), y=[r['accuracy'] for r in results.values()])\n",
    "plt.title(\"Model Accuracy Comparison\")\n",
    "plt.ylabel(\"Accuracy\")\n",
    "plt.ylim(0, 1)\n",
    "plt.show()"
   ]
  }
 ],
 "metadata": {
  "kernelspec": {
   "display_name": "base",
   "language": "python",
   "name": "python3"
  },
  "language_info": {
   "codemirror_mode": {
    "name": "ipython",
    "version": 3
   },
   "file_extension": ".py",
   "mimetype": "text/x-python",
   "name": "python",
   "nbconvert_exporter": "python",
   "pygments_lexer": "ipython3",
   "version": "3.12.4"
  }
 },
 "nbformat": 4,
 "nbformat_minor": 5
}
